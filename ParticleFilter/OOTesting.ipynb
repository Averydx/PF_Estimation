{
 "cells": [
  {
   "cell_type": "code",
   "execution_count": 45,
   "metadata": {},
   "outputs": [
    {
     "ename": "TypeError",
     "evalue": "MultivariatePerturbations.__init__() got an unexpected keyword argument 'params'",
     "output_type": "error",
     "traceback": [
      "\u001b[0;31m---------------------------------------------------------------------------\u001b[0m",
      "\u001b[0;31mTypeError\u001b[0m                                 Traceback (most recent call last)",
      "Cell \u001b[0;32mIn[45], line 10\u001b[0m\n\u001b[1;32m      7\u001b[0m     \u001b[39mreturn\u001b[39;00m poisson\u001b[39m.\u001b[39mpmf(\u001b[39m0\u001b[39m,\u001b[39m1\u001b[39m)\n\u001b[1;32m      9\u001b[0m euler \u001b[39m=\u001b[39m Euler()\n\u001b[0;32m---> 10\u001b[0m perturb \u001b[39m=\u001b[39m MultivariatePerturbations(params\u001b[39m=\u001b[39;49m{\u001b[39m\"\u001b[39;49m\u001b[39msigma1\u001b[39;49m\u001b[39m\"\u001b[39;49m:\u001b[39m0.1\u001b[39;49m,\u001b[39m\"\u001b[39;49m\u001b[39msigma2\u001b[39;49m\u001b[39m\"\u001b[39;49m:\u001b[39m0.002\u001b[39;49m})\n\u001b[1;32m     11\u001b[0m resample \u001b[39m=\u001b[39m PoissonResample(likelihood\u001b[39m=\u001b[39mlikelihood)\n\u001b[1;32m     13\u001b[0m algo \u001b[39m=\u001b[39m TimeDependentAlgo(integrator\u001b[39m=\u001b[39meuler,perturb\u001b[39m=\u001b[39mperturb,resampler\u001b[39m=\u001b[39mresample)\n",
      "\u001b[0;31mTypeError\u001b[0m: MultivariatePerturbations.__init__() got an unexpected keyword argument 'params'"
     ]
    }
   ],
   "source": [
    "from ObjectHierarchy.Implementations.TimeDependentBeta import *\n",
    "from ObjectHierarchy.Output import Output\n",
    "from ObjectHierarchy.Utils import RunInfo\n",
    "from scipy.stats import poisson\n",
    "\n",
    "def likelihood(): \n",
    "    return poisson.pmf(0,1)\n",
    "\n",
    "euler = Euler()\n",
    "perturb = MultivariatePerturbations(params={\"sigma1\":0.1,\"sigma2\":0.002})\n",
    "resample = PoissonResample(likelihood=likelihood)\n",
    "\n",
    "algo = TimeDependentAlgo(integrator=euler,perturb=perturb,resampler=resample)\n",
    "\n",
    "info = RunInfo(observation_data=np.array([0,2,3,4]),forecast_time=0,particle_count=1000,data_scale=0)\n",
    "\n",
    "Output = algo.run(info=info)\n",
    "algo._context.clock.tick\n",
    "print(algo._context.clock.time)\n",
    "\n",
    "\n",
    "\n",
    "\n"
   ]
  }
 ],
 "metadata": {
  "kernelspec": {
   "display_name": ".venv",
   "language": "python",
   "name": "python3"
  },
  "language_info": {
   "codemirror_mode": {
    "name": "ipython",
    "version": 3
   },
   "file_extension": ".py",
   "mimetype": "text/x-python",
   "name": "python",
   "nbconvert_exporter": "python",
   "pygments_lexer": "ipython3",
   "version": "3.11.3"
  },
  "orig_nbformat": 4
 },
 "nbformat": 4,
 "nbformat_minor": 2
}
