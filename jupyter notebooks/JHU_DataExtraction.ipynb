{
 "cells": [
  {
   "cell_type": "code",
   "execution_count": 21,
   "metadata": {},
   "outputs": [
    {
     "name": "stdout",
     "output_type": "stream",
     "text": [
      "    People_Hospitalized\n",
      "0                   NaN\n",
      "1                   NaN\n",
      "2                   NaN\n",
      "3                   NaN\n",
      "4                   NaN\n",
      "5                   NaN\n",
      "6                   NaN\n",
      "7                   NaN\n",
      "8                   NaN\n",
      "9                   NaN\n",
      "10                  NaN\n",
      "11                  NaN\n",
      "12                  NaN\n",
      "13                  NaN\n",
      "14                  NaN\n",
      "15                  NaN\n",
      "16                  NaN\n",
      "17                  NaN\n",
      "18                  NaN\n",
      "19                  NaN\n",
      "20                  NaN\n",
      "21                  NaN\n",
      "22                  NaN\n",
      "23                  NaN\n",
      "24                  NaN\n",
      "25                  NaN\n",
      "26                  NaN\n",
      "27                  NaN\n",
      "28                  NaN\n",
      "29                  NaN\n",
      "30                  NaN\n",
      "31                  NaN\n",
      "32                  NaN\n",
      "33                  NaN\n",
      "34                  NaN\n",
      "35                  NaN\n",
      "36                  NaN\n",
      "37                  NaN\n",
      "38                  NaN\n",
      "39                  NaN\n",
      "40                  NaN\n",
      "41                  NaN\n",
      "42                  NaN\n",
      "43                  NaN\n",
      "44                  NaN\n",
      "45                  NaN\n",
      "46                  NaN\n",
      "47                  NaN\n",
      "48                  NaN\n",
      "49                  NaN\n",
      "50                  NaN\n",
      "51                  NaN\n",
      "52                  NaN\n",
      "53                  NaN\n",
      "54                  NaN\n",
      "55                  NaN\n",
      "56                  NaN\n",
      "57                  NaN\n"
     ]
    }
   ],
   "source": [
    "import pandas as pd\n",
    "import datetime\n",
    "\n",
    "day = datetime.datetime(2020,9,15).date()\n",
    "date = day.strftime(\"%m-%d-%Y\")\n",
    "csv_url = f\"https://github.com/CSSEGISandData/COVID-19/blob/master/csse_covid_19_data/csse_covid_19_daily_reports_us/{date}.csv?raw=true\"\n",
    "\n",
    "data = pd.read_csv(csv_url)\n",
    "data = data[['People_Hospitalized']]\n",
    "print(data)\n"
   ]
  }
 ],
 "metadata": {
  "kernelspec": {
   "display_name": ".venv",
   "language": "python",
   "name": "python3"
  },
  "language_info": {
   "codemirror_mode": {
    "name": "ipython",
    "version": 3
   },
   "file_extension": ".py",
   "mimetype": "text/x-python",
   "name": "python",
   "nbconvert_exporter": "python",
   "pygments_lexer": "ipython3",
   "version": "3.11.3"
  }
 },
 "nbformat": 4,
 "nbformat_minor": 2
}
