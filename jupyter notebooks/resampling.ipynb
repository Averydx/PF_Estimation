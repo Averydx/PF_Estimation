{
 "cells": [
  {
   "cell_type": "code",
   "execution_count": 37,
   "metadata": {},
   "outputs": [
    {
     "name": "stdout",
     "output_type": "stream",
     "text": [
      "Numpy binary resample indices: [5 1 2 9 9 9 2 3 6 0]\n",
      "SR indices:[0. 0. 1. 1. 2. 4. 6. 7. 9. 9.]\n",
      "0.9999999999999999\n",
      "Log-SR indices:[0. 0. 1. 1. 2. 3. 5. 6. 9. 9.]\n"
     ]
    }
   ],
   "source": [
    "import numpy as np\n",
    "from numpy.typing import NDArray\n",
    "\n",
    "'''The jacobian logarithm, used in log likelihood normalization and resampling processes\n",
    "δ will be an array of log-probabilities '''\n",
    "def jacob(δ:NDArray)->NDArray:\n",
    "    '''δ is our vector of weights'''\n",
    "    n = len(δ)\n",
    "    Δ = np.zeros(n) #Δ is a vector of running sums, i.e. the log-cdf\n",
    "    Δ[0] = δ[0]\n",
    "    for i in range(1,n):\n",
    "        Δ[i] = max(δ[i],Δ[i-1]) + np.log(1 + np.exp(-1*np.abs(δ[i] - Δ[i-1]))) \n",
    "    return(Δ)\n",
    "\n",
    "'''normalizes the probability space using the jacobian logarithm as defined in jacob() '''\n",
    "def log_norm(log_weights:NDArray): \n",
    "    norm = (jacob(log_weights)[-1])\n",
    "    log_weights -= norm\n",
    "    return log_weights\n",
    "\n",
    "\n",
    "gen = np.random.default_rng(5)\n",
    "weights = np.array([gen.uniform() for _ in range(10)])\n",
    "weights /= np.sum(weights)\n",
    "\n",
    "'''The default numpy implementation of the resampling complexity O(NlogN), the binary search is performed N times'''\n",
    "cdf = weights.cumsum()\n",
    "uinform_samples = gen.random(weights.shape) #Draws N random samples on the interval U[0,1)\n",
    "indices = cdf.searchsorted(uinform_samples,side='right') #performs a binary search to find where the samples would be in order inserted on the right\n",
    "print(f\"Numpy binary resample indices: {indices}\")\n",
    "\n",
    "\n",
    "\n",
    "N = len(weights) #number of weights\n",
    "\n",
    "'''Systematic resampling in lin-domain, complexity O(N), only one sample is drawn, offsets from that sample are constant'''\n",
    "i=0\n",
    "indices = np.zeros(N)\n",
    "u = np.zeros(N)\n",
    "u[0] = gen.uniform(0,1/N)\n",
    "for j in range(0,N):\n",
    "    u[j] = u[0] + 1/N*(j)\n",
    "    while u[j] > cdf[i]:\n",
    "        i+=1\n",
    "    indices[j]=i\n",
    "print(f\"SR indices:{indices}\")\n",
    "\n",
    "'''Systematic resampling in the log-domain requires special function, the Jacobian Logarithm'''\n",
    "\n",
    "'''we must first normalize the weights in the log-domain, this can be done using func:jacob'''\n",
    "log_weights = np.log(weights)\n",
    "log_weights = log_norm(log_weights)\n",
    "\n",
    "indices = np.zeros(N)\n",
    "log_cdf = jacob(log_weights)\n",
    "i = 0\n",
    "u = gen.uniform(0,1/N)\n",
    "for j in range(0,N):\n",
    "    r = np.log(u + 1/N*(j))\n",
    "    while r>log_cdf[i]:\n",
    "        i = i + 1\n",
    "    indices[j] = i\n",
    "print(f\"Log-SR indices:{indices}\")\n",
    "    \n",
    "\n"
   ]
  }
 ],
 "metadata": {
  "kernelspec": {
   "display_name": ".venv",
   "language": "python",
   "name": "python3"
  },
  "language_info": {
   "codemirror_mode": {
    "name": "ipython",
    "version": 3
   },
   "file_extension": ".py",
   "mimetype": "text/x-python",
   "name": "python",
   "nbconvert_exporter": "python",
   "pygments_lexer": "ipython3",
   "version": "3.11.5"
  },
  "orig_nbformat": 4
 },
 "nbformat": 4,
 "nbformat_minor": 2
}
