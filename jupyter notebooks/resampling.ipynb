{
 "cells": [
  {
   "cell_type": "code",
   "execution_count": 16,
   "metadata": {},
   "outputs": [
    {
     "name": "stdout",
     "output_type": "stream",
     "text": [
      "indices drawn from numpy choice: [8 0 9 0 7 4 9 6 4 5]\n",
      "indices drawn from systematic resampling: [0. 0. 4. 4. 5. 6. 7. 7. 8. 9.]\n"
     ]
    }
   ],
   "source": [
    "import numpy as np\n",
    "\n",
    "gen = np.random.default_rng(0)\n",
    "weights = np.array([gen.random() for _ in range(10)])\n",
    "\n",
    "weights /= np.sum(weights)\n",
    "\n",
    "'''The numpy resampling algorithm as defined in numpy.random.Generator.choice, generates N random samples from a uniform distribution (0,1)\n",
    "and performs a binary search to obtain the index in the sorted CDF where the samples would be inserted to maintain order\n",
    "\n",
    "Time complexity O(nlogn) where n is the number of samples, in our case n = len(weights)\n",
    "\n",
    "https://github.com/numpy/numpy/blob/64fc516a0fce06169a1e0fea55c7cd2dc57cd296/numpy/random/_generator.pyx#L3084\n",
    "'''\n",
    "\n",
    "cdf = weights.cumsum() #cumulative sum stored in np.array\n",
    "cdf /= cdf[-1] #normalization done in function\n",
    "uniform_samples = gen.random(weights.shape)\n",
    "idx = cdf.searchsorted(uniform_samples, side='right') #a binary search over the array\n",
    "\n",
    "print(f\"indices drawn from numpy choice: {idx}\")\n",
    "\n",
    "# '''The systematic resampling algorithm uses a slightly different approach, assuming that we are drawing n samples where n=len(weights),\n",
    "# numpy cannot assume this as it supports drawing fewer samples than len(weights). \n",
    "\n",
    "# We draw only 1 random sample u=U(1/n) as offset the subsequent n-1 indices by u +(1/n)*j, this has multiple advantages, firstly, if the weights are\n",
    "# uniform the indices will not change, secondly, the time complexity is only O(n) as no search step is required\n",
    "\n",
    "# Note also that the indices and resampled in sorted order, although for our case this doesn't matter, it's worth noting \n",
    "# '''\n",
    "\n",
    "# indices = np.zeros(len(weights)) #initialize array to hold the indices\n",
    "# cdf = np.cumsum(weights) #create cdf\n",
    "# u = gen.uniform(0,1/len(weights)) #random number between 1 and 1/n, only drawn once vs the n \n",
    "# i=0\n",
    "# for j in range(0,len(weights)): \n",
    "#     r = (u + 1/len(weights) * j)\n",
    "#     while r > cdf[i]: \n",
    "#         i += 1\n",
    "#     indices[j] = i\n",
    "\n",
    "# print(f\"indices drawn from systematic resampling: {indices}\")\n",
    "\n",
    "\n",
    "# '''The systematic resampling in log domain is functionally equivalent to doing so in the lin-domain, but requires a special helper function, \n",
    "# the jacobian logarithm, i.e. log(sum(exp(x1)+exp(x2) + ... + exp(xn)))'''\n",
    "\n",
    "\n",
    "# log_cdf = jacob(weights)\n",
    "        \n",
    "#         i = 0\n",
    "#         indices = np.zeros(ctx.particle_count)\n",
    "#         u = ctx.rng.uniform(0,1/ctx.particle_count)\n",
    "#         for j in range(0,ctx.particle_count): \n",
    "#             r = np.log(u + 1/ctx.particle_count * j)\n",
    "#             while r > log_cdf[i]: \n",
    "#                 i += 1\n",
    "#             indices[j] = i\n",
    "\n"
   ]
  },
  {
   "cell_type": "markdown",
   "metadata": {},
   "source": [
    "### <center>Numpy Choice Algorithm</center> ###\n",
    "\n",
    "\n",
    "\n",
    "Numpy's choice algorithm is defined in the source file \"_generator.pyx\", and is an element of the Generator class returned when calling default_rng(). Note that generator can be instantiated manually, and wraps a numpy bit_generator, which is a prng, i.e. PCG64, mt19337, etc. \n",
    "\n",
    "The default prng is PCG64, which is significantly faster than mt19337 and passes more statistical tests, so there is no reason to deviate in our use case. \n",
    "\n",
    "$ CDF = \\begin{bmatrix}\n",
    "           w_{0} \\\\\n",
    "           w_{0}+w{1} \\\\\n",
    "           \\vdots \\\\\n",
    "           w_{0}+...+w_{n-1}\n",
    "         \\end{bmatrix} $\n",
    "\n",
    "\n",
    "where $\\sum_{i=0}^{n-1}w_{i} = 1 $\n",
    "\n",
    "and the final element of the CDF is 1.\n",
    "\n",
    "The algorithm that numpy uses is referred to in the literature as multinomial resampling, where samples are drawn independently on the interval\n",
    "$ u_i = [0,1) $ and $i$ between $0$ and $n-1$.\n",
    "\n",
    "so $ U =  \\begin{bmatrix}\n",
    "           u_{0} \\\\\n",
    "           u_1 \\\\\n",
    "           \\vdots \\\\\n",
    "           u_{i}\n",
    "         \\end{bmatrix} $\n",
    "\n",
    "We then take all the samples and evaluate at which index in $CDF$ they could be inserted while maintaining order, \n",
    "this is the function cdf.searchsorted(uniform_samples) which is a binary search implementation which returns a vector of \n",
    "indices. This resampling algorithm will have a time complexity of $O(nlogn)$ as the $logn$ binary search must be run over every sample.\n",
    "\n"
   ]
  },
  {
   "cell_type": "code",
   "execution_count": null,
   "metadata": {},
   "outputs": [],
   "source": [
    "import numpy as np\n",
    "\n",
    "gen = np.random.default_rng(0)\n",
    "weights = np.array([gen.random() for _ in range(10)])\n",
    "\n",
    "weights /= np.sum(weights)\n",
    "\n",
    "'''The numpy resampling algorithm as defined in numpy.random.Generator.choice, generates N random samples from a uniform distribution (0,1)\n",
    "and performs a binary search to obtain the index in the sorted CDF where the samples would be inserted to maintain order\n",
    "\n",
    "Time complexity O(nlogn) where n is the number of samples, in our case n = len(weights)\n",
    "\n",
    "https://github.com/numpy/numpy/blob/64fc516a0fce06169a1e0fea55c7cd2dc57cd296/numpy/random/_generator.pyx#L3084\n",
    "'''\n",
    "\n",
    "cdf = weights.cumsum() #cumulative sum stored in np.array\n",
    "cdf /= cdf[-1] #normalization done in function\n",
    "uniform_samples = gen.random(weights.shape)\n",
    "idx = cdf.searchsorted(uniform_samples, side='right') #a binary search over the array\n",
    "\n",
    "print(f\"indices drawn from numpy choice: {idx}\")"
   ]
  },
  {
   "cell_type": "markdown",
   "metadata": {},
   "source": [
    "### <center> The Systematic Resampling Algorithm<\\center> ###"
   ]
  }
 ],
 "metadata": {
  "kernelspec": {
   "display_name": ".venv",
   "language": "python",
   "name": "python3"
  },
  "language_info": {
   "codemirror_mode": {
    "name": "ipython",
    "version": 3
   },
   "file_extension": ".py",
   "mimetype": "text/x-python",
   "name": "python",
   "nbconvert_exporter": "python",
   "pygments_lexer": "ipython3",
   "version": "3.11.5"
  },
  "orig_nbformat": 4
 },
 "nbformat": 4,
 "nbformat_minor": 2
}
