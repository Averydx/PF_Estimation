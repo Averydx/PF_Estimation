{
 "cells": [
  {
   "cell_type": "code",
   "execution_count": 2,
   "metadata": {},
   "outputs": [
    {
     "name": "stdout",
     "output_type": "stream",
     "text": [
      "state before: [92345, 1434, 343]\n",
      "MVHG: [980  17   3]\n",
      "Multinomial: [299 313 388]\n",
      "state after: [91664  1730   728]\n"
     ]
    },
    {
     "data": {
      "text/plain": [
       "'The upside to this approach is that we can ensure we are sampling from the state variables with greater people more frequently, \\nand state perturbation is thus more reasonably constrained.\\n'"
      ]
     },
     "execution_count": 2,
     "metadata": {},
     "output_type": "execute_result"
    }
   ],
   "source": [
    "import pandas as pd\n",
    "import numpy as np\n",
    "import matplotlib.pyplot as plt\n",
    "\n",
    "'''Possible roughening approach for the epymorph model, \n",
    "We cannot use the approach of multivariate normal roughening \n",
    "as detailed in Calvetti et al. '''\n",
    "\n",
    "\n",
    "state = [92345,1434,343]\n",
    "print(f\"state before: {state}\")\n",
    "rng = np.random.default_rng()\n",
    "perturbed = rng.multivariate_hypergeometric(state,1000) #Draw 1000 items from the state compartments and store them in a variable\n",
    "print(f\"MVHG: {perturbed}\")\n",
    "state -= perturbed #subtract the drawn items from the state compartments\n",
    "perturbed = rng.multinomial(np.sum(perturbed),[0.3,0.3,0.4]) #redistribute the drawn items multinomially according to some distribution\n",
    "print(f\"Multinomial: {perturbed}\")\n",
    "state += perturbed #reintegrate the drawn items\n",
    "\n",
    "print(f\"state after: {state}\")\n",
    "\n",
    "\n",
    "'''The upside to this approach is that we can ensure we are sampling from the state variables with greater people more frequently, \n",
    "and state perturbation is thus more reasonably constrained.\n",
    "'''\n"
   ]
  }
 ],
 "metadata": {
  "kernelspec": {
   "display_name": ".venv",
   "language": "python",
   "name": "python3"
  },
  "language_info": {
   "codemirror_mode": {
    "name": "ipython",
    "version": 3
   },
   "file_extension": ".py",
   "mimetype": "text/x-python",
   "name": "python",
   "nbconvert_exporter": "python",
   "pygments_lexer": "ipython3",
   "version": "3.11.5"
  }
 },
 "nbformat": 4,
 "nbformat_minor": 2
}
