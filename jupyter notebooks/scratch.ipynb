{
 "cells": [
  {
   "cell_type": "code",
   "execution_count": 61,
   "metadata": {},
   "outputs": [
    {
     "name": "stdout",
     "output_type": "stream",
     "text": [
      "state before: [92345, 1434, 343]\n",
      "MVHG: [983  14   3]\n",
      "Multinomial: [283 320 397]\n",
      "state after: [91645  1740   737]\n"
     ]
    }
   ],
   "source": [
    "import pandas as pd\n",
    "import numpy as np\n",
    "import matplotlib.pyplot as plt\n",
    "\n",
    "state = [92345,1434,343]\n",
    "print(f\"state before: {state}\")\n",
    "rng = np.random.default_rng()\n",
    "perturbed = rng.multivariate_hypergeometric(state,1000)\n",
    "print(f\"MVHG: {perturbed}\")\n",
    "state -= perturbed\n",
    "perturbed = rng.multinomial(np.sum(perturbed),[0.3,0.3,0.4])\n",
    "print(f\"Multinomial: {perturbed}\")\n",
    "state += perturbed\n",
    "\n",
    "print(f\"state after: {state}\")\n",
    "\n",
    "\n"
   ]
  }
 ],
 "metadata": {
  "kernelspec": {
   "display_name": ".venv",
   "language": "python",
   "name": "python3"
  },
  "language_info": {
   "codemirror_mode": {
    "name": "ipython",
    "version": 3
   },
   "file_extension": ".py",
   "mimetype": "text/x-python",
   "name": "python",
   "nbconvert_exporter": "python",
   "pygments_lexer": "ipython3",
   "version": "3.11.5"
  },
  "orig_nbformat": 4
 },
 "nbformat": 4,
 "nbformat_minor": 2
}
