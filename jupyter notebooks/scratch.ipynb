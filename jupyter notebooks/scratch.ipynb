{
 "cells": [
  {
   "cell_type": "code",
   "execution_count": 26,
   "metadata": {},
   "outputs": [
    {
     "name": "stdout",
     "output_type": "stream",
     "text": [
      "3.890113679316862e-17\n",
      "1.0\n",
      "6.14421235332821e-06\n",
      "0.36787944117144233\n",
      "1.0\n",
      "1.0\n",
      "[3.89011368e-17 1.00000000e+00 6.14421235e-06 3.67879441e-01\n",
      " 1.00000000e+00 1.00000000e+00]\n"
     ]
    }
   ],
   "source": [
    "import numpy as np \n",
    "import pandas as pd\n",
    "import matplotlib.pyplot as plt\n",
    "from scipy.special import gamma\n",
    "from scipy.stats import nbinom,poisson\n",
    "from math import comb\n",
    "\n",
    "observations = [6413,0,0,1,0,0]\n",
    "particle_obv = [5789,0,12,1,0,0]\n",
    "\n",
    "for i,obv in enumerate(observations): \n",
    "    print(poisson.pmf(k=obv,mu=particle_obv[i]))\n",
    "\n",
    "\n",
    "print(poisson.pmf(k=observations,mu=particle_obv))\n",
    "\n",
    "\n",
    "\n",
    "\n",
    "\n"
   ]
  }
 ],
 "metadata": {
  "kernelspec": {
   "display_name": ".venv",
   "language": "python",
   "name": "python3"
  },
  "language_info": {
   "codemirror_mode": {
    "name": "ipython",
    "version": 3
   },
   "file_extension": ".py",
   "mimetype": "text/x-python",
   "name": "python",
   "nbconvert_exporter": "python",
   "pygments_lexer": "ipython3",
   "version": "3.11.3"
  },
  "orig_nbformat": 4
 },
 "nbformat": 4,
 "nbformat_minor": 2
}
