{
 "cells": [
  {
   "cell_type": "code",
   "execution_count": 26,
   "metadata": {},
   "outputs": [
    {
     "name": "stdout",
     "output_type": "stream",
     "text": [
      "23377425\n"
     ]
    },
    {
     "data": {
      "text/plain": [
       "6.896237269744546e-35"
      ]
     },
     "execution_count": 26,
     "metadata": {},
     "output_type": "execute_result"
    }
   ],
   "source": [
    "import numpy as np \n",
    "import pandas as pd\n",
    "import matplotlib.pyplot as plt\n",
    "from scipy.special import gamma\n",
    "from scipy.stats import nbinom,poisson,multivariate_normal\n",
    "from math import comb\n",
    "\n",
    "particle_obv = np.array([5789,0,0,1,0,0])\n",
    "\n",
    "print(np.dot(observations.T,observations))\n",
    "\n",
    "# print(np.cov(observations)+1)\n",
    "(multivariate_normal.pdf(observations,mean=particle_obv,cov=10000))\n",
    "\n",
    "\n",
    "\n",
    "\n",
    "\n",
    "\n",
    "\n"
   ]
  }
 ],
 "metadata": {
  "kernelspec": {
   "display_name": ".venv",
   "language": "python",
   "name": "python3"
  },
  "language_info": {
   "codemirror_mode": {
    "name": "ipython",
    "version": 3
   },
   "file_extension": ".py",
   "mimetype": "text/x-python",
   "name": "python",
   "nbconvert_exporter": "python",
   "pygments_lexer": "ipython3",
   "version": "3.11.3"
  },
  "orig_nbformat": 4
 },
 "nbformat": 4,
 "nbformat_minor": 2
}
