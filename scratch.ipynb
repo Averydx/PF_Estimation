{
 "cells": [
  {
   "cell_type": "code",
   "execution_count": 11,
   "metadata": {},
   "outputs": [
    {
     "name": "stdout",
     "output_type": "stream",
     "text": [
      "[3.3291984  3.23563376 4.95354832]\n",
      "Elapsed time: 0.0007233329997688998\n",
      "[2.18346608 2.79679243 5.77684201]\n",
      "Elapsed time: 0.0007363750000877189\n"
     ]
    }
   ],
   "source": [
    "import numpy as np\n",
    "import time\n",
    "from utility import multivariate_normal\n",
    "\n",
    "cov=(np.diag([1,1,1]))\n",
    "mean = np.array([1,2,6]); \n",
    "cov = cov.astype(np.double)\n",
    "\n",
    "(u, s, v) = np.linalg.svd(cov)\n",
    "\n",
    "start = time.perf_counter(); \n",
    "\n",
    "for _ in range(1): \n",
    "    print(multivariate_normal(mean,s,v))\n",
    "end = time.perf_counter()\n",
    "\n",
    "print(f\"Elapsed time: {end-start}\")\n",
    "\n",
    "start = time.perf_counter(); \n",
    "\n",
    "for _ in range(1): \n",
    "    print(np.random.multivariate_normal(mean=mean,cov=cov,check_valid='ignore'))\n",
    "end = time.perf_counter()\n",
    "\n",
    "print(f\"Elapsed time: {end-start}\")\n",
    "\n",
    "\n",
    "\n"
   ]
  }
 ],
 "metadata": {
  "kernelspec": {
   "display_name": ".venv",
   "language": "python",
   "name": "python3"
  },
  "language_info": {
   "codemirror_mode": {
    "name": "ipython",
    "version": 3
   },
   "file_extension": ".py",
   "mimetype": "text/x-python",
   "name": "python",
   "nbconvert_exporter": "python",
   "pygments_lexer": "ipython3",
   "version": "3.11.3"
  },
  "orig_nbformat": 4
 },
 "nbformat": 4,
 "nbformat_minor": 2
}
